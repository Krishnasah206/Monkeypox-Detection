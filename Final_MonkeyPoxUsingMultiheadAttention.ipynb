{
  "nbformat": 4,
  "nbformat_minor": 0,
  "metadata": {
    "colab": {
      "provenance": [],
      "gpuType": "T4"
    },
    "kernelspec": {
      "name": "python3",
      "display_name": "Python 3"
    },
    "language_info": {
      "name": "python"
    },
    "accelerator": "GPU"
  },
  "cells": [
    {
      "cell_type": "markdown",
      "source": [
        "**UnZip the Dataset**"
      ],
      "metadata": {
        "id": "mELXHghRjQco"
      }
    },
    {
      "cell_type": "code",
      "execution_count": null,
      "metadata": {
        "colab": {
          "base_uri": "https://localhost:8080/"
        },
        "id": "z4ElFeao8Y5q",
        "outputId": "1d56d31c-4406-4826-a021-48190f4334ba"
      },
      "outputs": [
        {
          "output_type": "stream",
          "name": "stdout",
          "text": [
            "Extracted to: /content/Monkeypox_Skin_Image_Dataset\n"
          ]
        }
      ],
      "source": [
        "import zipfile\n",
        "import os\n",
        "\n",
        "# Define the zip file path and destination folder\n",
        "zip_path = \"/content/Monkeypox Skin Image Dataset (2).zip\"\n",
        "extract_to = \"/content/Monkeypox_Skin_Image_Dataset\"\n",
        "\n",
        "# Create the destination folder if it doesn't exist\n",
        "os.makedirs(extract_to, exist_ok=True)\n",
        "\n",
        "# Extract the zip file\n",
        "with zipfile.ZipFile(zip_path, 'r') as zip_ref:\n",
        "    zip_ref.extractall(extract_to)\n",
        "\n",
        "print(f\"Extracted to: {extract_to}\")\n"
      ]
    },
    {
      "cell_type": "markdown",
      "source": [
        "**Import The Libraries**"
      ],
      "metadata": {
        "id": "rDPs6fJnjgyq"
      }
    },
    {
      "cell_type": "code",
      "source": [
        "import glob as gb\n",
        "import matplotlib.pyplot as plt\n",
        "import seaborn as sns\n",
        "import os\n",
        "import cv2\n",
        "import numpy as np\n",
        "import pandas as pd\n",
        "import tensorflow as tf\n",
        "from tensorflow import keras\n",
        "from tensorflow.keras import layers\n",
        "from tensorflow.keras.models import Sequential\n",
        "from tensorflow.keras.optimizers import SGD\n",
        "from tensorflow.keras.preprocessing.image import ImageDataGenerator, load_img, img_to_array\n",
        "import plotly.express as px"
      ],
      "metadata": {
        "id": "XVN2c8pY8jmV"
      },
      "execution_count": null,
      "outputs": []
    },
    {
      "cell_type": "markdown",
      "source": [
        "**CSV FILE CREATED**"
      ],
      "metadata": {
        "id": "LVJMGuBqjpV0"
      }
    },
    {
      "cell_type": "code",
      "source": [
        "import os\n",
        "import csv\n",
        "\n",
        "# Define the folder path and output CSV file\n",
        "folder_path = \"/content/Monkeypox_Skin_Image_Dataset/Monkeypox Skin Image Dataset\"\n",
        "csv_file = \"/content/dataset.csv\"\n",
        "\n",
        "# Collect data from the folder\n",
        "data = []\n",
        "for root, _, files in os.walk(folder_path):\n",
        "    for file in files:\n",
        "        if file.endswith(('.png', '.jpg', '.jpeg')):  # Filter image files\n",
        "            file_path = os.path.join(root, file)\n",
        "            label = os.path.basename(root)  # Use folder name as label\n",
        "            data.append([file, file_path, label])\n",
        "\n",
        "# Write data to CSV\n",
        "with open(csv_file, 'w', newline='') as f:\n",
        "    writer = csv.writer(f)\n",
        "    # Write the header\n",
        "    writer.writerow([\"File Name\", \"File Path\", \"Class Label\"])\n",
        "    # Write the rows\n",
        "    writer.writerows(data)\n",
        "\n",
        "print(f\"CSV file created at: {csv_file}\")\n"
      ],
      "metadata": {
        "colab": {
          "base_uri": "https://localhost:8080/"
        },
        "id": "yzkg3mo-8l6B",
        "outputId": "a82b0ea4-c4e4-4da0-f16f-b3c20948a267"
      },
      "execution_count": null,
      "outputs": [
        {
          "output_type": "stream",
          "name": "stdout",
          "text": [
            "CSV file created at: /content/dataset.csv\n"
          ]
        }
      ]
    },
    {
      "cell_type": "markdown",
      "source": [
        "**Distribution of the Class**"
      ],
      "metadata": {
        "id": "bGgSgyBAj0aM"
      }
    },
    {
      "cell_type": "code",
      "source": [
        "# Loading the dataset metadata and visualizing class distribution\n",
        "info_file = '/content/dataset.csv'\n",
        "info = pd.read_csv(info_file)\n",
        "info.head()\n",
        "\n",
        "fig = px.pie(\n",
        "    names=info['Class Label'].unique(),  # Access the column using ['Class Label']\n",
        "    values=info['Class Label'].value_counts(),  # Access the column using ['Class Label']\n",
        "    hole=0.2,\n",
        "    width=500,\n",
        "    height=500\n",
        ")\n",
        "fig.update_layout({'title': {'text': 'Distribution of the Class', 'x': 0.45}})\n",
        "fig.show()"
      ],
      "metadata": {
        "colab": {
          "base_uri": "https://localhost:8080/",
          "height": 517
        },
        "id": "URfutoFI8qAn",
        "outputId": "0175341f-3100-4fa9-bb70-3b09d803f54c"
      },
      "execution_count": null,
      "outputs": [
        {
          "output_type": "display_data",
          "data": {
            "text/html": [
              "<html>\n",
              "<head><meta charset=\"utf-8\" /></head>\n",
              "<body>\n",
              "    <div>            <script src=\"https://cdnjs.cloudflare.com/ajax/libs/mathjax/2.7.5/MathJax.js?config=TeX-AMS-MML_SVG\"></script><script type=\"text/javascript\">if (window.MathJax && window.MathJax.Hub && window.MathJax.Hub.Config) {window.MathJax.Hub.Config({SVG: {font: \"STIX-Web\"}});}</script>                <script type=\"text/javascript\">window.PlotlyConfig = {MathJaxConfig: 'local'};</script>\n",
              "        <script charset=\"utf-8\" src=\"https://cdn.plot.ly/plotly-2.35.2.min.js\"></script>                <div id=\"ed9371f5-d33d-4cab-a769-40d7f3658227\" class=\"plotly-graph-div\" style=\"height:500px; width:500px;\"></div>            <script type=\"text/javascript\">                                    window.PLOTLYENV=window.PLOTLYENV || {};                                    if (document.getElementById(\"ed9371f5-d33d-4cab-a769-40d7f3658227\")) {                    Plotly.newPlot(                        \"ed9371f5-d33d-4cab-a769-40d7f3658227\",                        [{\"domain\":{\"x\":[0.0,1.0],\"y\":[0.0,1.0]},\"hole\":0.2,\"hovertemplate\":\"label=%{label}\\u003cbr\\u003evalue=%{value}\\u003cextra\\u003e\\u003c\\u002fextra\\u003e\",\"labels\":[\"Non-MonkeyPox\",\"Monkeypox\"],\"legendgroup\":\"\",\"name\":\"\",\"showlegend\":true,\"values\":[300,300],\"type\":\"pie\"}],                        {\"template\":{\"data\":{\"histogram2dcontour\":[{\"type\":\"histogram2dcontour\",\"colorbar\":{\"outlinewidth\":0,\"ticks\":\"\"},\"colorscale\":[[0.0,\"#0d0887\"],[0.1111111111111111,\"#46039f\"],[0.2222222222222222,\"#7201a8\"],[0.3333333333333333,\"#9c179e\"],[0.4444444444444444,\"#bd3786\"],[0.5555555555555556,\"#d8576b\"],[0.6666666666666666,\"#ed7953\"],[0.7777777777777778,\"#fb9f3a\"],[0.8888888888888888,\"#fdca26\"],[1.0,\"#f0f921\"]]}],\"choropleth\":[{\"type\":\"choropleth\",\"colorbar\":{\"outlinewidth\":0,\"ticks\":\"\"}}],\"histogram2d\":[{\"type\":\"histogram2d\",\"colorbar\":{\"outlinewidth\":0,\"ticks\":\"\"},\"colorscale\":[[0.0,\"#0d0887\"],[0.1111111111111111,\"#46039f\"],[0.2222222222222222,\"#7201a8\"],[0.3333333333333333,\"#9c179e\"],[0.4444444444444444,\"#bd3786\"],[0.5555555555555556,\"#d8576b\"],[0.6666666666666666,\"#ed7953\"],[0.7777777777777778,\"#fb9f3a\"],[0.8888888888888888,\"#fdca26\"],[1.0,\"#f0f921\"]]}],\"heatmap\":[{\"type\":\"heatmap\",\"colorbar\":{\"outlinewidth\":0,\"ticks\":\"\"},\"colorscale\":[[0.0,\"#0d0887\"],[0.1111111111111111,\"#46039f\"],[0.2222222222222222,\"#7201a8\"],[0.3333333333333333,\"#9c179e\"],[0.4444444444444444,\"#bd3786\"],[0.5555555555555556,\"#d8576b\"],[0.6666666666666666,\"#ed7953\"],[0.7777777777777778,\"#fb9f3a\"],[0.8888888888888888,\"#fdca26\"],[1.0,\"#f0f921\"]]}],\"heatmapgl\":[{\"type\":\"heatmapgl\",\"colorbar\":{\"outlinewidth\":0,\"ticks\":\"\"},\"colorscale\":[[0.0,\"#0d0887\"],[0.1111111111111111,\"#46039f\"],[0.2222222222222222,\"#7201a8\"],[0.3333333333333333,\"#9c179e\"],[0.4444444444444444,\"#bd3786\"],[0.5555555555555556,\"#d8576b\"],[0.6666666666666666,\"#ed7953\"],[0.7777777777777778,\"#fb9f3a\"],[0.8888888888888888,\"#fdca26\"],[1.0,\"#f0f921\"]]}],\"contourcarpet\":[{\"type\":\"contourcarpet\",\"colorbar\":{\"outlinewidth\":0,\"ticks\":\"\"}}],\"contour\":[{\"type\":\"contour\",\"colorbar\":{\"outlinewidth\":0,\"ticks\":\"\"},\"colorscale\":[[0.0,\"#0d0887\"],[0.1111111111111111,\"#46039f\"],[0.2222222222222222,\"#7201a8\"],[0.3333333333333333,\"#9c179e\"],[0.4444444444444444,\"#bd3786\"],[0.5555555555555556,\"#d8576b\"],[0.6666666666666666,\"#ed7953\"],[0.7777777777777778,\"#fb9f3a\"],[0.8888888888888888,\"#fdca26\"],[1.0,\"#f0f921\"]]}],\"surface\":[{\"type\":\"surface\",\"colorbar\":{\"outlinewidth\":0,\"ticks\":\"\"},\"colorscale\":[[0.0,\"#0d0887\"],[0.1111111111111111,\"#46039f\"],[0.2222222222222222,\"#7201a8\"],[0.3333333333333333,\"#9c179e\"],[0.4444444444444444,\"#bd3786\"],[0.5555555555555556,\"#d8576b\"],[0.6666666666666666,\"#ed7953\"],[0.7777777777777778,\"#fb9f3a\"],[0.8888888888888888,\"#fdca26\"],[1.0,\"#f0f921\"]]}],\"mesh3d\":[{\"type\":\"mesh3d\",\"colorbar\":{\"outlinewidth\":0,\"ticks\":\"\"}}],\"scatter\":[{\"fillpattern\":{\"fillmode\":\"overlay\",\"size\":10,\"solidity\":0.2},\"type\":\"scatter\"}],\"parcoords\":[{\"type\":\"parcoords\",\"line\":{\"colorbar\":{\"outlinewidth\":0,\"ticks\":\"\"}}}],\"scatterpolargl\":[{\"type\":\"scatterpolargl\",\"marker\":{\"colorbar\":{\"outlinewidth\":0,\"ticks\":\"\"}}}],\"bar\":[{\"error_x\":{\"color\":\"#2a3f5f\"},\"error_y\":{\"color\":\"#2a3f5f\"},\"marker\":{\"line\":{\"color\":\"#E5ECF6\",\"width\":0.5},\"pattern\":{\"fillmode\":\"overlay\",\"size\":10,\"solidity\":0.2}},\"type\":\"bar\"}],\"scattergeo\":[{\"type\":\"scattergeo\",\"marker\":{\"colorbar\":{\"outlinewidth\":0,\"ticks\":\"\"}}}],\"scatterpolar\":[{\"type\":\"scatterpolar\",\"marker\":{\"colorbar\":{\"outlinewidth\":0,\"ticks\":\"\"}}}],\"histogram\":[{\"marker\":{\"pattern\":{\"fillmode\":\"overlay\",\"size\":10,\"solidity\":0.2}},\"type\":\"histogram\"}],\"scattergl\":[{\"type\":\"scattergl\",\"marker\":{\"colorbar\":{\"outlinewidth\":0,\"ticks\":\"\"}}}],\"scatter3d\":[{\"type\":\"scatter3d\",\"line\":{\"colorbar\":{\"outlinewidth\":0,\"ticks\":\"\"}},\"marker\":{\"colorbar\":{\"outlinewidth\":0,\"ticks\":\"\"}}}],\"scattermapbox\":[{\"type\":\"scattermapbox\",\"marker\":{\"colorbar\":{\"outlinewidth\":0,\"ticks\":\"\"}}}],\"scatterternary\":[{\"type\":\"scatterternary\",\"marker\":{\"colorbar\":{\"outlinewidth\":0,\"ticks\":\"\"}}}],\"scattercarpet\":[{\"type\":\"scattercarpet\",\"marker\":{\"colorbar\":{\"outlinewidth\":0,\"ticks\":\"\"}}}],\"carpet\":[{\"aaxis\":{\"endlinecolor\":\"#2a3f5f\",\"gridcolor\":\"white\",\"linecolor\":\"white\",\"minorgridcolor\":\"white\",\"startlinecolor\":\"#2a3f5f\"},\"baxis\":{\"endlinecolor\":\"#2a3f5f\",\"gridcolor\":\"white\",\"linecolor\":\"white\",\"minorgridcolor\":\"white\",\"startlinecolor\":\"#2a3f5f\"},\"type\":\"carpet\"}],\"table\":[{\"cells\":{\"fill\":{\"color\":\"#EBF0F8\"},\"line\":{\"color\":\"white\"}},\"header\":{\"fill\":{\"color\":\"#C8D4E3\"},\"line\":{\"color\":\"white\"}},\"type\":\"table\"}],\"barpolar\":[{\"marker\":{\"line\":{\"color\":\"#E5ECF6\",\"width\":0.5},\"pattern\":{\"fillmode\":\"overlay\",\"size\":10,\"solidity\":0.2}},\"type\":\"barpolar\"}],\"pie\":[{\"automargin\":true,\"type\":\"pie\"}]},\"layout\":{\"autotypenumbers\":\"strict\",\"colorway\":[\"#636efa\",\"#EF553B\",\"#00cc96\",\"#ab63fa\",\"#FFA15A\",\"#19d3f3\",\"#FF6692\",\"#B6E880\",\"#FF97FF\",\"#FECB52\"],\"font\":{\"color\":\"#2a3f5f\"},\"hovermode\":\"closest\",\"hoverlabel\":{\"align\":\"left\"},\"paper_bgcolor\":\"white\",\"plot_bgcolor\":\"#E5ECF6\",\"polar\":{\"bgcolor\":\"#E5ECF6\",\"angularaxis\":{\"gridcolor\":\"white\",\"linecolor\":\"white\",\"ticks\":\"\"},\"radialaxis\":{\"gridcolor\":\"white\",\"linecolor\":\"white\",\"ticks\":\"\"}},\"ternary\":{\"bgcolor\":\"#E5ECF6\",\"aaxis\":{\"gridcolor\":\"white\",\"linecolor\":\"white\",\"ticks\":\"\"},\"baxis\":{\"gridcolor\":\"white\",\"linecolor\":\"white\",\"ticks\":\"\"},\"caxis\":{\"gridcolor\":\"white\",\"linecolor\":\"white\",\"ticks\":\"\"}},\"coloraxis\":{\"colorbar\":{\"outlinewidth\":0,\"ticks\":\"\"}},\"colorscale\":{\"sequential\":[[0.0,\"#0d0887\"],[0.1111111111111111,\"#46039f\"],[0.2222222222222222,\"#7201a8\"],[0.3333333333333333,\"#9c179e\"],[0.4444444444444444,\"#bd3786\"],[0.5555555555555556,\"#d8576b\"],[0.6666666666666666,\"#ed7953\"],[0.7777777777777778,\"#fb9f3a\"],[0.8888888888888888,\"#fdca26\"],[1.0,\"#f0f921\"]],\"sequentialminus\":[[0.0,\"#0d0887\"],[0.1111111111111111,\"#46039f\"],[0.2222222222222222,\"#7201a8\"],[0.3333333333333333,\"#9c179e\"],[0.4444444444444444,\"#bd3786\"],[0.5555555555555556,\"#d8576b\"],[0.6666666666666666,\"#ed7953\"],[0.7777777777777778,\"#fb9f3a\"],[0.8888888888888888,\"#fdca26\"],[1.0,\"#f0f921\"]],\"diverging\":[[0,\"#8e0152\"],[0.1,\"#c51b7d\"],[0.2,\"#de77ae\"],[0.3,\"#f1b6da\"],[0.4,\"#fde0ef\"],[0.5,\"#f7f7f7\"],[0.6,\"#e6f5d0\"],[0.7,\"#b8e186\"],[0.8,\"#7fbc41\"],[0.9,\"#4d9221\"],[1,\"#276419\"]]},\"xaxis\":{\"gridcolor\":\"white\",\"linecolor\":\"white\",\"ticks\":\"\",\"title\":{\"standoff\":15},\"zerolinecolor\":\"white\",\"automargin\":true,\"zerolinewidth\":2},\"yaxis\":{\"gridcolor\":\"white\",\"linecolor\":\"white\",\"ticks\":\"\",\"title\":{\"standoff\":15},\"zerolinecolor\":\"white\",\"automargin\":true,\"zerolinewidth\":2},\"scene\":{\"xaxis\":{\"backgroundcolor\":\"#E5ECF6\",\"gridcolor\":\"white\",\"linecolor\":\"white\",\"showbackground\":true,\"ticks\":\"\",\"zerolinecolor\":\"white\",\"gridwidth\":2},\"yaxis\":{\"backgroundcolor\":\"#E5ECF6\",\"gridcolor\":\"white\",\"linecolor\":\"white\",\"showbackground\":true,\"ticks\":\"\",\"zerolinecolor\":\"white\",\"gridwidth\":2},\"zaxis\":{\"backgroundcolor\":\"#E5ECF6\",\"gridcolor\":\"white\",\"linecolor\":\"white\",\"showbackground\":true,\"ticks\":\"\",\"zerolinecolor\":\"white\",\"gridwidth\":2}},\"shapedefaults\":{\"line\":{\"color\":\"#2a3f5f\"}},\"annotationdefaults\":{\"arrowcolor\":\"#2a3f5f\",\"arrowhead\":0,\"arrowwidth\":1},\"geo\":{\"bgcolor\":\"white\",\"landcolor\":\"#E5ECF6\",\"subunitcolor\":\"white\",\"showland\":true,\"showlakes\":true,\"lakecolor\":\"white\"},\"title\":{\"x\":0.05},\"mapbox\":{\"style\":\"light\"}}},\"legend\":{\"tracegroupgap\":0},\"margin\":{\"t\":60},\"height\":500,\"width\":500,\"title\":{\"text\":\"Distribution of the Class\",\"x\":0.45}},                        {\"responsive\": true}                    ).then(function(){\n",
              "                            \n",
              "var gd = document.getElementById('ed9371f5-d33d-4cab-a769-40d7f3658227');\n",
              "var x = new MutationObserver(function (mutations, observer) {{\n",
              "        var display = window.getComputedStyle(gd).display;\n",
              "        if (!display || display === 'none') {{\n",
              "            console.log([gd, 'removed!']);\n",
              "            Plotly.purge(gd);\n",
              "            observer.disconnect();\n",
              "        }}\n",
              "}});\n",
              "\n",
              "// Listen for the removal of the full notebook cells\n",
              "var notebookContainer = gd.closest('#notebook-container');\n",
              "if (notebookContainer) {{\n",
              "    x.observe(notebookContainer, {childList: true});\n",
              "}}\n",
              "\n",
              "// Listen for the clearing of the current output cell\n",
              "var outputEl = gd.closest('.output');\n",
              "if (outputEl) {{\n",
              "    x.observe(outputEl, {childList: true});\n",
              "}}\n",
              "\n",
              "                        })                };                            </script>        </div>\n",
              "</body>\n",
              "</html>"
            ]
          },
          "metadata": {}
        }
      ]
    },
    {
      "cell_type": "markdown",
      "source": [
        "**SPLIT THE DATASET INTO TRAIN AND TEST**"
      ],
      "metadata": {
        "id": "YdFG0ChDkLSf"
      }
    },
    {
      "cell_type": "code",
      "source": [
        "import tensorflow as tf\n",
        "import os\n",
        "\n",
        "# Define dataset path\n",
        "tpath = \"/content/Monkeypox_Skin_Image_Dataset/Monkeypox Skin Image Dataset\"  # Path to the dataset\n",
        "output_train_path = \"/content/Monkeypox_Skin_Image_Dataset/split/train\"\n",
        "output_test_path = \"/content/Monkeypox_Skin_Image_Dataset/split/test\"\n",
        "\n",
        "# Create output directories if they don't exist\n",
        "os.makedirs(output_train_path, exist_ok=True)\n",
        "os.makedirs(output_test_path, exist_ok=True)\n",
        "\n",
        "# Define parameters\n",
        "batch_size = 32\n",
        "image_height, image_width = 256, 256\n",
        "test_split = 0.2  # 20% of data for testing\n",
        "\n",
        "# Load the full dataset with shuffle and batch_size > 1\n",
        "full_dataset = tf.keras.preprocessing.image_dataset_from_directory(\n",
        "    tpath,\n",
        "    batch_size=batch_size,  # Process multiple images at a time\n",
        "    image_size=(image_height, image_width),\n",
        "    shuffle=True,\n",
        "    seed=123  # Ensure reproducibility\n",
        ")\n",
        "\n",
        "# Get the class names\n",
        "class_names = full_dataset.class_names\n",
        "\n",
        "# Calculate sizes for train and test\n",
        "dataset_size = len(full_dataset) * batch_size  # Total images in the dataset\n",
        "test_size = int(test_split * dataset_size)\n",
        "train_size = dataset_size - test_size\n",
        "\n",
        "# Split the dataset using `unbatch` to handle each image individually\n",
        "full_dataset = full_dataset.unbatch()  # Break the batches into individual samples\n",
        "train_dataset = full_dataset.take(train_size)\n",
        "test_dataset = full_dataset.skip(train_size)\n",
        "\n",
        "# Helper function to save a dataset and count images\n",
        "def save_and_count_dataset(dataset, output_path):\n",
        "    image_count = 0  # Counter for total images saved\n",
        "    for img, label in dataset:\n",
        "        label_name = class_names[label.numpy()]\n",
        "        # Create a directory for each class\n",
        "        class_dir = os.path.join(output_path, label_name)\n",
        "        os.makedirs(class_dir, exist_ok=True)\n",
        "        # Save the image\n",
        "        img_path = os.path.join(class_dir, f\"img_{image_count}.jpeg\")\n",
        "        tf.keras.preprocessing.image.save_img(img_path, img.numpy())\n",
        "        image_count += 1  # Increment the image count\n",
        "    return image_count\n",
        "\n",
        "# Save train and test datasets and count the images\n",
        "print(\"Saving and counting train dataset...\")\n",
        "train_image_count = save_and_count_dataset(train_dataset, output_train_path)\n",
        "\n",
        "print(\"Saving and counting test dataset...\")\n",
        "test_image_count = save_and_count_dataset(test_dataset, output_test_path)\n",
        "\n",
        "# Print the total image counts\n",
        "print(f\"Total images in train dataset: {train_image_count}\")\n",
        "print(f\"Total images in test dataset: {test_image_count}\")\n",
        "print(\"Datasets have been saved!\")\n"
      ],
      "metadata": {
        "colab": {
          "base_uri": "https://localhost:8080/"
        },
        "id": "DCRDdNwD8veE",
        "outputId": "fa35d0aa-6b16-417c-eb4a-1883e3afd945"
      },
      "execution_count": null,
      "outputs": [
        {
          "output_type": "stream",
          "name": "stdout",
          "text": [
            "Found 600 files belonging to 2 classes.\n",
            "Saving and counting train dataset...\n",
            "Saving and counting test dataset...\n",
            "Total images in train dataset: 487\n",
            "Total images in test dataset: 113\n",
            "Datasets have been saved!\n"
          ]
        }
      ]
    },
    {
      "cell_type": "markdown",
      "source": [
        "**AUGMENTATION OF TRAIN DATASET**"
      ],
      "metadata": {
        "id": "euMtrDDfn6GM"
      }
    },
    {
      "cell_type": "code",
      "source": [
        "import tensorflow as tf\n",
        "import os\n",
        "\n",
        "# Define dataset paths\n",
        "train_path = \"/content/Monkeypox_Skin_Image_Dataset/split/train\"\n",
        "augmented_data_path = \"/content/Monkeypox_Skin_Image_Dataset/augmented_train\"\n",
        "\n",
        "# Parameters\n",
        "image_height, image_width = 256, 256\n",
        "augmentations_per_image = 5  # Including the original, 5 images per original\n",
        "\n",
        "# Create a directory for augmented data\n",
        "os.makedirs(augmented_data_path, exist_ok=True)\n",
        "\n",
        "# Define an ImageDataGenerator for augmentation\n",
        "datagen = tf.keras.preprocessing.image.ImageDataGenerator(\n",
        "    rotation_range=20,       # Randomly rotate images\n",
        "    width_shift_range=0.2,   # Randomly shift images horizontally\n",
        "    height_shift_range=0.2,  # Randomly shift images vertically\n",
        "    shear_range=0.2,         # Shear transformations\n",
        "    zoom_range=0.2,          # Zoom in/out\n",
        "    horizontal_flip=True,    # Randomly flip images horizontally\n",
        "    fill_mode='nearest'      # Fill in pixels with nearest value\n",
        ")\n",
        "\n",
        "augmented_image_count = 0  # Variable to track total augmented images\n",
        "original_image_count = 0  # Variable to track total original images\n",
        "\n",
        "# Iterate through both classes (monkeypox, normal) and augment each image\n",
        "for class_name in os.listdir(train_path):  # Iterate over class subfolders (monkeypox, normal)\n",
        "    class_dir = os.path.join(train_path, class_name)\n",
        "    augmented_class_dir = os.path.join(augmented_data_path, class_name)\n",
        "    os.makedirs(augmented_class_dir, exist_ok=True)\n",
        "\n",
        "    for img_file in os.listdir(class_dir):\n",
        "        img_path = os.path.join(class_dir, img_file)\n",
        "        img = tf.keras.utils.load_img(img_path, target_size=(image_height, image_width))  # Load image\n",
        "        img_array = tf.keras.utils.img_to_array(img)  # Convert to array\n",
        "        img_array = img_array.reshape((1,) + img_array.shape)  # Reshape for the generator\n",
        "\n",
        "        # Save the original image in the augmented directory\n",
        "        original_img_path = os.path.join(augmented_class_dir, img_file)  # Save the original\n",
        "        tf.keras.preprocessing.image.save_img(original_img_path, img_array[0])  # Save original image\n",
        "        original_image_count += 1  # Increment for the original image\n",
        "\n",
        "        # Generate augmentations (4 new images for a total of 5)\n",
        "        i = 0\n",
        "        for batch in datagen.flow(img_array, batch_size=1, save_to_dir=augmented_class_dir, save_prefix='aug', save_format='jpeg'):\n",
        "            i += 1\n",
        "            augmented_image_count += 1  # Increment for each augmented image\n",
        "            if i >= augmentations_per_image - 1:  # Stop after 4 augmentations (total 5 including original)\n",
        "                break\n",
        "\n",
        "# Debugging: Output the counts for original and augmented images\n",
        "print(f\"Total original images saved: {original_image_count}\")\n",
        "print(f\"Total augmented images generated: {augmented_image_count}\")\n",
        "print(f\"Total images (original + augmented): {original_image_count + augmented_image_count}\")\n"
      ],
      "metadata": {
        "colab": {
          "base_uri": "https://localhost:8080/"
        },
        "id": "0ffoFxXj81YX",
        "outputId": "c004efe0-da89-4176-e4b5-ecd290d17658"
      },
      "execution_count": null,
      "outputs": [
        {
          "output_type": "stream",
          "name": "stdout",
          "text": [
            "Total original images saved: 487\n",
            "Total augmented images generated: 1948\n",
            "Total images (original + augmented): 2435\n"
          ]
        }
      ]
    },
    {
      "cell_type": "markdown",
      "source": [
        "**SPLIT THE AUGMENTED DATASET INTO TRAIN & VALIDATION**"
      ],
      "metadata": {
        "id": "2WBU3bp_pGM6"
      }
    },
    {
      "cell_type": "code",
      "source": [
        "import os\n",
        "import shutil\n",
        "import random\n",
        "\n",
        "# Define augmented dataset path\n",
        "augmented_data_path = \"/content/Monkeypox_Skin_Image_Dataset/augmented_train\"\n",
        "output_train_val_path = \"/content/Monkeypox_Skin_Image_Dataset/split/train_val\"\n",
        "output_validation_path = \"/content/Monkeypox_Skin_Image_Dataset/split/validation\"\n",
        "\n",
        "# Create output directories if they don't exist\n",
        "os.makedirs(output_train_val_path, exist_ok=True)\n",
        "os.makedirs(output_validation_path, exist_ok=True)\n",
        "\n",
        "# Parameters\n",
        "validation_split = 0.2  # 20% for validation, 80% for training\n",
        "\n",
        "# Helper function to split dataset\n",
        "def split_dataset(class_name, class_dir, train_val_dir, val_dir, split_ratio):\n",
        "    # List all images in the class directory\n",
        "    all_images = [f for f in os.listdir(class_dir) if f.endswith('.jpeg')]\n",
        "\n",
        "    # Calculate how many images should go to the validation set\n",
        "    val_count = int(len(all_images) * split_ratio)\n",
        "\n",
        "    # Randomly shuffle images\n",
        "    random.shuffle(all_images)\n",
        "\n",
        "    # Split into training and validation\n",
        "    val_images = all_images[:val_count]\n",
        "    train_val_images = all_images[val_count:]\n",
        "\n",
        "    # Create class directories for train/val sets if not exist\n",
        "    os.makedirs(os.path.join(train_val_dir, class_name), exist_ok=True)\n",
        "    os.makedirs(os.path.join(val_dir, class_name), exist_ok=True)\n",
        "\n",
        "    # Move images to train_val and validation directories\n",
        "    for img in train_val_images:\n",
        "        shutil.move(os.path.join(class_dir, img), os.path.join(train_val_dir, class_name, img))\n",
        "\n",
        "    for img in val_images:\n",
        "        shutil.move(os.path.join(class_dir, img), os.path.join(val_dir, class_name, img))\n",
        "\n",
        "    print(f\"Class '{class_name}' split into {len(train_val_images)} training and {len(val_images)} validation images.\")\n",
        "\n",
        "# Iterate over each class (monkeypox, normal) and split the augmented dataset\n",
        "for class_name in os.listdir(augmented_data_path):\n",
        "    class_dir = os.path.join(augmented_data_path, class_name)\n",
        "    if os.path.isdir(class_dir):  # Only process directories\n",
        "        split_dataset(class_name, class_dir, output_train_val_path, output_validation_path, validation_split)\n",
        "\n",
        "print(\"Augmented dataset split into train/validation sets successfully.\")\n"
      ],
      "metadata": {
        "colab": {
          "base_uri": "https://localhost:8080/"
        },
        "id": "-8VxLwny86jz",
        "outputId": "4fee1118-be72-4064-9f9d-5eb44d918173"
      },
      "execution_count": null,
      "outputs": [
        {
          "output_type": "stream",
          "name": "stdout",
          "text": [
            "Class 'Non-MonkeyPox' split into 888 training and 221 validation images.\n",
            "Class 'Monkeypox' split into 989 training and 247 validation images.\n",
            "Augmented dataset split into train/validation sets successfully.\n"
          ]
        }
      ]
    },
    {
      "cell_type": "markdown",
      "source": [
        "**Normalization**"
      ],
      "metadata": {
        "id": "khtHL9okqzsR"
      }
    },
    {
      "cell_type": "code",
      "source": [
        "import os\n",
        "import tensorflow as tf\n",
        "\n",
        "# Define input dataset paths\n",
        "dataset_paths = {\n",
        "    \"train\": \"/content/Monkeypox_Skin_Image_Dataset/split/train_val\",\n",
        "    \"test\": \"/content/Monkeypox_Skin_Image_Dataset/split/test\",\n",
        "    \"validation\": \"/content/Monkeypox_Skin_Image_Dataset/split/validation\"\n",
        "}\n",
        "\n",
        "# Define output paths for normalized datasets\n",
        "normalized_base_path = \"/content/Monkeypox_Skin_Image_Dataset/normalized\"\n",
        "normalized_paths = {key: os.path.join(normalized_base_path, key) for key in dataset_paths}\n",
        "\n",
        "# Create output directories\n",
        "for path in normalized_paths.values():\n",
        "    os.makedirs(path, exist_ok=True)\n",
        "\n",
        "# Function to normalize and save images\n",
        "def normalize_and_save_images(input_path, output_path):\n",
        "    image_count = 0\n",
        "    for root, _, files in os.walk(input_path):\n",
        "        for file in files:\n",
        "            if file.endswith(('.png', '.jpg', '.jpeg', '.bmp', '.gif', '.tiff')):  # Support multiple formats\n",
        "                # Load the image\n",
        "                img_path = os.path.join(root, file)\n",
        "                img = tf.keras.preprocessing.image.load_img(img_path)\n",
        "                img_array = tf.keras.preprocessing.image.img_to_array(img)\n",
        "\n",
        "                # Normalize the image (scale pixel values to [0,1])\n",
        "                normalized_img_array = img_array / 255.0\n",
        "\n",
        "                # Create output directory structure\n",
        "                relative_dir = os.path.relpath(root, input_path)\n",
        "                output_subdir = os.path.join(output_path, relative_dir)\n",
        "                os.makedirs(output_subdir, exist_ok=True)\n",
        "\n",
        "                # Save the normalized image\n",
        "                normalized_img_path = os.path.join(output_subdir, file)\n",
        "                tf.keras.preprocessing.image.save_img(\n",
        "                    normalized_img_path,\n",
        "                    normalized_img_array\n",
        "                )\n",
        "                image_count += 1\n",
        "    return image_count\n",
        "\n",
        "# Normalize and save all datasets\n",
        "for dataset_name, input_path in dataset_paths.items():\n",
        "    print(f\"Normalizing {dataset_name} dataset...\")\n",
        "    count = normalize_and_save_images(input_path, normalized_paths[dataset_name])\n",
        "    print(f\"Total normalized images in {dataset_name} dataset: {count}\")\n",
        "\n",
        "print(\"✅ Normalization completed for all datasets!\")\n"
      ],
      "metadata": {
        "colab": {
          "base_uri": "https://localhost:8080/"
        },
        "id": "7SUatHNa8-d-",
        "outputId": "f7daefe5-1a6d-4ebc-b93e-012ce40411fb"
      },
      "execution_count": null,
      "outputs": [
        {
          "output_type": "stream",
          "name": "stdout",
          "text": [
            "Normalizing train dataset...\n",
            "Total normalized images in train dataset: 1877\n",
            "Normalizing test dataset...\n",
            "Total normalized images in test dataset: 113\n",
            "Normalizing validation dataset...\n",
            "Total normalized images in validation dataset: 468\n",
            "✅ Normalization completed for all datasets!\n"
          ]
        }
      ]
    },
    {
      "cell_type": "markdown",
      "source": [
        "**MultiheadAttention in ResNet50**"
      ],
      "metadata": {
        "id": "16hSFeYNvVqq"
      }
    },
    {
      "cell_type": "code",
      "source": [
        "import tensorflow as tf\n",
        "from tensorflow.keras import layers, models\n",
        "from tensorflow.keras.optimizers import SGD\n",
        "from sklearn.metrics import classification_report, confusion_matrix, precision_score, recall_score, f1_score\n",
        "import seaborn as sns\n",
        "import matplotlib.pyplot as plt\n",
        "import numpy as np\n",
        "\n",
        "# Multihead Attention Layer\n",
        "class MultiheadAttentionLayer(tf.keras.layers.Layer):\n",
        "    def __init__(self, num_heads, key_dim, **kwargs):\n",
        "        super().__init__(**kwargs)\n",
        "        self.multihead_attention = tf.keras.layers.MultiHeadAttention(num_heads=num_heads, key_dim=key_dim)\n",
        "\n",
        "    def call(self, query, key, value):\n",
        "        return self.multihead_attention(query, key, value)\n",
        "\n",
        "# Custom ResNet Model with Multihead Attention\n",
        "class ResNetWithMultiheadAttention(tf.keras.Model):\n",
        "    def __init__(self, base_model, num_heads=4, key_dim=64, num_classes=2, **kwargs):\n",
        "        super().__init__(**kwargs)\n",
        "        self.base_model = base_model\n",
        "        self.attention_layer = MultiheadAttentionLayer(num_heads=num_heads, key_dim=key_dim)\n",
        "        self.global_avg_pool = layers.GlobalAveragePooling2D()\n",
        "        self.dropout = layers.Dropout(0.5)\n",
        "        self.dense1 = layers.Dense(750, activation='relu')\n",
        "        self.dense2 = layers.Dense(num_classes, activation='softmax')\n",
        "\n",
        "    def call(self, inputs):\n",
        "        features = self.base_model(inputs, training=False)\n",
        "        query = tf.expand_dims(features, axis=1)\n",
        "        attention_output = self.attention_layer(query, query, query)\n",
        "        attention_output = tf.squeeze(attention_output, axis=1)\n",
        "        x = self.global_avg_pool(attention_output)\n",
        "        x = self.dropout(x)\n",
        "        x = self.dense1(x)\n",
        "        return self.dense2(x)\n",
        "\n",
        "# Instantiate the base ResNet50 model\n",
        "base_model = tf.keras.applications.ResNet50(\n",
        "    include_top=False,\n",
        "    input_shape=(256, 256, 3),\n",
        "    pooling=None,\n",
        "    weights='imagenet'\n",
        ")\n",
        "\n",
        "# Create an instance of the custom model\n",
        "model = ResNetWithMultiheadAttention(base_model=base_model)\n",
        "\n",
        "# Freeze the base model layers\n",
        "for layer in base_model.layers:\n",
        "    layer.trainable = False\n",
        "\n",
        "# Compile the model\n",
        "model.compile(\n",
        "    optimizer=SGD(learning_rate=0.001),\n",
        "    loss='sparse_categorical_crossentropy',\n",
        "    metrics=['accuracy']\n",
        ")\n",
        "\n",
        "# Load dataset\n",
        "train_dataset = tf.keras.utils.image_dataset_from_directory(\n",
        "    '/content/Monkeypox_Skin_Image_Dataset/normalized/train',\n",
        "    image_size=(256, 256),\n",
        "    batch_size=32\n",
        ")\n",
        "validation_dataset = tf.keras.utils.image_dataset_from_directory(\n",
        "    '/content/Monkeypox_Skin_Image_Dataset/normalized/validation',\n",
        "    image_size=(256, 256),\n",
        "    batch_size=32\n",
        ")\n",
        "\n",
        "# Train the model\n",
        "history = model.fit(\n",
        "    train_dataset,\n",
        "    validation_data=validation_dataset,\n",
        "    epochs=50\n",
        ")\n",
        "\n",
        "test_dataset = tf.keras.utils.image_dataset_from_directory(\n",
        "    '/content/Monkeypox_Skin_Image_Dataset/normalized/test',\n",
        "    image_size=(256, 256),\n",
        "    batch_size=32\n",
        ")\n",
        "\n",
        "# Evaluate the model\n",
        "test_loss, test_accuracy = model.evaluate(test_dataset)\n",
        "print(f\"Test Accuracy: {test_accuracy * 100:.2f}%\")\n",
        "\n",
        "validation_loss, validation_accuracy = model.evaluate(validation_dataset)\n",
        "print(f\"Validation Accuracy: {validation_accuracy * 100:.2f}%\")\n",
        "\n",
        "# Plot Accuracy and Loss (Fig. 4)\n",
        "plt.figure(figsize=(12, 5))\n",
        "\n",
        "# Accuracy Plot\n",
        "plt.subplot(1, 2, 1)\n",
        "plt.plot(history.history['accuracy'], label='Training Accuracy')\n",
        "plt.plot(history.history['val_accuracy'], label='Validation Accuracy')\n",
        "plt.xlabel('Epochs')\n",
        "plt.ylabel('Accuracy')\n",
        "plt.title('Training and Validation Accuracy')\n",
        "plt.legend()\n",
        "\n",
        "# Loss Plot\n",
        "plt.subplot(1, 2, 2)\n",
        "plt.plot(history.history['loss'], label='Training Loss')\n",
        "plt.plot(history.history['val_loss'], label='Validation Loss')\n",
        "plt.xlabel('Epochs')\n",
        "plt.ylabel('Loss')\n",
        "plt.title('Training and Validation Loss')\n",
        "plt.legend()\n",
        "\n",
        "plt.show()\n",
        "\n",
        "# Evaluate on test dataset\n",
        "y_true = []\n",
        "y_pred = []\n",
        "\n",
        "for images, labels in test_dataset:\n",
        "    predictions = model.predict(images)\n",
        "    y_true.extend(labels.numpy())\n",
        "    y_pred.extend(np.argmax(predictions, axis=1))\n",
        "\n",
        "# Calculate Precision, Recall, and F1-score\n",
        "precision = precision_score(y_true, y_pred, average='weighted') * 100\n",
        "recall = recall_score(y_true, y_pred, average='weighted') * 100\n",
        "f1 = f1_score(y_true, y_pred, average='weighted') * 100\n",
        "\n",
        "print(f'Precision: {precision:.2f}%')\n",
        "print(f'Recall: {recall:.2f}%')\n",
        "print(f'F1-score: {f1:.2f}%')\n",
        "\n",
        "# Confusion Matrix\n",
        "conf_matrix = confusion_matrix(y_true, y_pred)\n",
        "sns.heatmap(conf_matrix, annot=True, fmt='d', cmap='Blues', xticklabels=['Monkeypox', 'Non-Monkeypox'], yticklabels=['Monkeypox', 'Non-Monkeypox'])\n",
        "plt.xlabel('Predicted')\n",
        "plt.ylabel('Actual')\n",
        "plt.title('Confusion Matrix')\n",
        "plt.show()\n",
        "\n",
        "model.summary()\n"
      ],
      "metadata": {
        "colab": {
          "base_uri": "https://localhost:8080/",
          "height": 1000
        },
        "id": "Zr2TcZUU9Ae7",
        "outputId": "201e0bb9-50ad-42a9-8c23-3928d9efd8d6"
      },
      "execution_count": null,
      "outputs": [
        {
          "output_type": "stream",
          "name": "stdout",
          "text": [
            "Downloading data from https://storage.googleapis.com/tensorflow/keras-applications/resnet/resnet50_weights_tf_dim_ordering_tf_kernels_notop.h5\n",
            "\u001b[1m94765736/94765736\u001b[0m \u001b[32m━━━━━━━━━━━━━━━━━━━━\u001b[0m\u001b[37m\u001b[0m \u001b[1m1s\u001b[0m 0us/step\n",
            "Found 1877 files belonging to 2 classes.\n",
            "Found 468 files belonging to 2 classes.\n",
            "Epoch 1/50\n",
            "\u001b[1m59/59\u001b[0m \u001b[32m━━━━━━━━━━━━━━━━━━━━\u001b[0m\u001b[37m\u001b[0m \u001b[1m41s\u001b[0m 406ms/step - accuracy: 0.6527 - loss: 0.6723 - val_accuracy: 0.7756 - val_loss: 0.6181\n",
            "Epoch 2/50\n",
            "\u001b[1m59/59\u001b[0m \u001b[32m━━━━━━━━━━━━━━━━━━━━\u001b[0m\u001b[37m\u001b[0m \u001b[1m7s\u001b[0m 119ms/step - accuracy: 0.7882 - loss: 0.5962 - val_accuracy: 0.8013 - val_loss: 0.5499\n",
            "Epoch 3/50\n",
            "\u001b[1m59/59\u001b[0m \u001b[32m━━━━━━━━━━━━━━━━━━━━\u001b[0m\u001b[37m\u001b[0m \u001b[1m10s\u001b[0m 119ms/step - accuracy: 0.8252 - loss: 0.5224 - val_accuracy: 0.8397 - val_loss: 0.4897\n",
            "Epoch 4/50\n",
            "\u001b[1m59/59\u001b[0m \u001b[32m━━━━━━━━━━━━━━━━━━━━\u001b[0m\u001b[37m\u001b[0m \u001b[1m8s\u001b[0m 141ms/step - accuracy: 0.8467 - loss: 0.4576 - val_accuracy: 0.8526 - val_loss: 0.4406\n",
            "Epoch 5/50\n",
            "\u001b[1m59/59\u001b[0m \u001b[32m━━━━━━━━━━━━━━━━━━━━\u001b[0m\u001b[37m\u001b[0m \u001b[1m10s\u001b[0m 141ms/step - accuracy: 0.8654 - loss: 0.4084 - val_accuracy: 0.8632 - val_loss: 0.4048\n",
            "Epoch 6/50\n",
            "\u001b[1m59/59\u001b[0m \u001b[32m━━━━━━━━━━━━━━━━━━━━\u001b[0m\u001b[37m\u001b[0m \u001b[1m8s\u001b[0m 143ms/step - accuracy: 0.8600 - loss: 0.3812 - val_accuracy: 0.8632 - val_loss: 0.3766\n",
            "Epoch 7/50\n",
            "\u001b[1m59/59\u001b[0m \u001b[32m━━━━━━━━━━━━━━━━━━━━\u001b[0m\u001b[37m\u001b[0m \u001b[1m7s\u001b[0m 123ms/step - accuracy: 0.8794 - loss: 0.3413 - val_accuracy: 0.8697 - val_loss: 0.3575\n",
            "Epoch 8/50\n",
            "\u001b[1m59/59\u001b[0m \u001b[32m━━━━━━━━━━━━━━━━━━━━\u001b[0m\u001b[37m\u001b[0m \u001b[1m7s\u001b[0m 123ms/step - accuracy: 0.8795 - loss: 0.3256 - val_accuracy: 0.8739 - val_loss: 0.3392\n",
            "Epoch 9/50\n",
            "\u001b[1m59/59\u001b[0m \u001b[32m━━━━━━━━━━━━━━━━━━━━\u001b[0m\u001b[37m\u001b[0m \u001b[1m7s\u001b[0m 121ms/step - accuracy: 0.8986 - loss: 0.2926 - val_accuracy: 0.8718 - val_loss: 0.3218\n",
            "Epoch 10/50\n",
            "\u001b[1m59/59\u001b[0m \u001b[32m━━━━━━━━━━━━━━━━━━━━\u001b[0m\u001b[37m\u001b[0m \u001b[1m10s\u001b[0m 121ms/step - accuracy: 0.8903 - loss: 0.2877 - val_accuracy: 0.8739 - val_loss: 0.3177\n",
            "Epoch 11/50\n",
            "\u001b[1m59/59\u001b[0m \u001b[32m━━━━━━━━━━━━━━━━━━━━\u001b[0m\u001b[37m\u001b[0m \u001b[1m7s\u001b[0m 121ms/step - accuracy: 0.8972 - loss: 0.2809 - val_accuracy: 0.8825 - val_loss: 0.3013\n",
            "Epoch 12/50\n",
            "\u001b[1m59/59\u001b[0m \u001b[32m━━━━━━━━━━━━━━━━━━━━\u001b[0m\u001b[37m\u001b[0m \u001b[1m8s\u001b[0m 141ms/step - accuracy: 0.9048 - loss: 0.2594 - val_accuracy: 0.8868 - val_loss: 0.2911\n",
            "Epoch 13/50\n",
            "\u001b[1m59/59\u001b[0m \u001b[32m━━━━━━━━━━━━━━━━━━━━\u001b[0m\u001b[37m\u001b[0m \u001b[1m9s\u001b[0m 121ms/step - accuracy: 0.9091 - loss: 0.2465 - val_accuracy: 0.8889 - val_loss: 0.2863\n",
            "Epoch 14/50\n",
            "\u001b[1m59/59\u001b[0m \u001b[32m━━━━━━━━━━━━━━━━━━━━\u001b[0m\u001b[37m\u001b[0m \u001b[1m8s\u001b[0m 140ms/step - accuracy: 0.9016 - loss: 0.2512 - val_accuracy: 0.8932 - val_loss: 0.2762\n",
            "Epoch 15/50\n",
            "\u001b[1m59/59\u001b[0m \u001b[32m━━━━━━━━━━━━━━━━━━━━\u001b[0m\u001b[37m\u001b[0m \u001b[1m10s\u001b[0m 141ms/step - accuracy: 0.9101 - loss: 0.2401 - val_accuracy: 0.8974 - val_loss: 0.2692\n",
            "Epoch 16/50\n",
            "\u001b[1m59/59\u001b[0m \u001b[32m━━━━━━━━━━━━━━━━━━━━\u001b[0m\u001b[37m\u001b[0m \u001b[1m7s\u001b[0m 121ms/step - accuracy: 0.9202 - loss: 0.2252 - val_accuracy: 0.9017 - val_loss: 0.2635\n",
            "Epoch 17/50\n",
            "\u001b[1m59/59\u001b[0m \u001b[32m━━━━━━━━━━━━━━━━━━━━\u001b[0m\u001b[37m\u001b[0m \u001b[1m10s\u001b[0m 122ms/step - accuracy: 0.9227 - loss: 0.2182 - val_accuracy: 0.8996 - val_loss: 0.2615\n",
            "Epoch 18/50\n",
            "\u001b[1m59/59\u001b[0m \u001b[32m━━━━━━━━━━━━━━━━━━━━\u001b[0m\u001b[37m\u001b[0m \u001b[1m10s\u001b[0m 122ms/step - accuracy: 0.9283 - loss: 0.2180 - val_accuracy: 0.9017 - val_loss: 0.2545\n",
            "Epoch 19/50\n",
            "\u001b[1m59/59\u001b[0m \u001b[32m━━━━━━━━━━━━━━━━━━━━\u001b[0m\u001b[37m\u001b[0m \u001b[1m8s\u001b[0m 142ms/step - accuracy: 0.9236 - loss: 0.2121 - val_accuracy: 0.8974 - val_loss: 0.2558\n",
            "Epoch 20/50\n",
            "\u001b[1m59/59\u001b[0m \u001b[32m━━━━━━━━━━━━━━━━━━━━\u001b[0m\u001b[37m\u001b[0m \u001b[1m7s\u001b[0m 121ms/step - accuracy: 0.9294 - loss: 0.2038 - val_accuracy: 0.9124 - val_loss: 0.2391\n",
            "Epoch 21/50\n",
            "\u001b[1m59/59\u001b[0m \u001b[32m━━━━━━━━━━━━━━━━━━━━\u001b[0m\u001b[37m\u001b[0m \u001b[1m7s\u001b[0m 121ms/step - accuracy: 0.9299 - loss: 0.2040 - val_accuracy: 0.9124 - val_loss: 0.2343\n",
            "Epoch 22/50\n",
            "\u001b[1m59/59\u001b[0m \u001b[32m━━━━━━━━━━━━━━━━━━━━\u001b[0m\u001b[37m\u001b[0m \u001b[1m8s\u001b[0m 141ms/step - accuracy: 0.9341 - loss: 0.1957 - val_accuracy: 0.9103 - val_loss: 0.2296\n",
            "Epoch 23/50\n",
            "\u001b[1m59/59\u001b[0m \u001b[32m━━━━━━━━━━━━━━━━━━━━\u001b[0m\u001b[37m\u001b[0m \u001b[1m9s\u001b[0m 120ms/step - accuracy: 0.9380 - loss: 0.1870 - val_accuracy: 0.9145 - val_loss: 0.2243\n",
            "Epoch 24/50\n",
            "\u001b[1m59/59\u001b[0m \u001b[32m━━━━━━━━━━━━━━━━━━━━\u001b[0m\u001b[37m\u001b[0m \u001b[1m10s\u001b[0m 121ms/step - accuracy: 0.9437 - loss: 0.1772 - val_accuracy: 0.9167 - val_loss: 0.2195\n",
            "Epoch 25/50\n",
            "\u001b[1m59/59\u001b[0m \u001b[32m━━━━━━━━━━━━━━━━━━━━\u001b[0m\u001b[37m\u001b[0m \u001b[1m7s\u001b[0m 122ms/step - accuracy: 0.9440 - loss: 0.1809 - val_accuracy: 0.9145 - val_loss: 0.2201\n",
            "Epoch 26/50\n",
            "\u001b[1m59/59\u001b[0m \u001b[32m━━━━━━━━━━━━━━━━━━━━\u001b[0m\u001b[37m\u001b[0m \u001b[1m8s\u001b[0m 141ms/step - accuracy: 0.9454 - loss: 0.1697 - val_accuracy: 0.9231 - val_loss: 0.2110\n",
            "Epoch 27/50\n",
            "\u001b[1m59/59\u001b[0m \u001b[32m━━━━━━━━━━━━━━━━━━━━\u001b[0m\u001b[37m\u001b[0m \u001b[1m8s\u001b[0m 142ms/step - accuracy: 0.9474 - loss: 0.1632 - val_accuracy: 0.9274 - val_loss: 0.2071\n",
            "Epoch 28/50\n",
            "\u001b[1m59/59\u001b[0m \u001b[32m━━━━━━━━━━━━━━━━━━━━\u001b[0m\u001b[37m\u001b[0m \u001b[1m9s\u001b[0m 121ms/step - accuracy: 0.9532 - loss: 0.1534 - val_accuracy: 0.9380 - val_loss: 0.1995\n",
            "Epoch 29/50\n",
            "\u001b[1m59/59\u001b[0m \u001b[32m━━━━━━━━━━━━━━━━━━━━\u001b[0m\u001b[37m\u001b[0m \u001b[1m11s\u001b[0m 142ms/step - accuracy: 0.9527 - loss: 0.1601 - val_accuracy: 0.9295 - val_loss: 0.1974\n",
            "Epoch 30/50\n",
            "\u001b[1m59/59\u001b[0m \u001b[32m━━━━━━━━━━━━━━━━━━━━\u001b[0m\u001b[37m\u001b[0m \u001b[1m7s\u001b[0m 120ms/step - accuracy: 0.9553 - loss: 0.1496 - val_accuracy: 0.9380 - val_loss: 0.1921\n",
            "Epoch 31/50\n",
            "\u001b[1m59/59\u001b[0m \u001b[32m━━━━━━━━━━━━━━━━━━━━\u001b[0m\u001b[37m\u001b[0m \u001b[1m11s\u001b[0m 141ms/step - accuracy: 0.9607 - loss: 0.1424 - val_accuracy: 0.9402 - val_loss: 0.1863\n",
            "Epoch 32/50\n",
            "\u001b[1m59/59\u001b[0m \u001b[32m━━━━━━━━━━━━━━━━━━━━\u001b[0m\u001b[37m\u001b[0m \u001b[1m8s\u001b[0m 142ms/step - accuracy: 0.9623 - loss: 0.1340 - val_accuracy: 0.9402 - val_loss: 0.1836\n",
            "Epoch 33/50\n",
            "\u001b[1m59/59\u001b[0m \u001b[32m━━━━━━━━━━━━━━━━━━━━\u001b[0m\u001b[37m\u001b[0m \u001b[1m7s\u001b[0m 122ms/step - accuracy: 0.9569 - loss: 0.1380 - val_accuracy: 0.9423 - val_loss: 0.1778\n",
            "Epoch 34/50\n",
            "\u001b[1m59/59\u001b[0m \u001b[32m━━━━━━━━━━━━━━━━━━━━\u001b[0m\u001b[37m\u001b[0m \u001b[1m7s\u001b[0m 121ms/step - accuracy: 0.9602 - loss: 0.1327 - val_accuracy: 0.9338 - val_loss: 0.1777\n",
            "Epoch 35/50\n",
            "\u001b[1m59/59\u001b[0m \u001b[32m━━━━━━━━━━━━━━━━━━━━\u001b[0m\u001b[37m\u001b[0m \u001b[1m7s\u001b[0m 121ms/step - accuracy: 0.9627 - loss: 0.1238 - val_accuracy: 0.9380 - val_loss: 0.1710\n",
            "Epoch 36/50\n",
            "\u001b[1m59/59\u001b[0m \u001b[32m━━━━━━━━━━━━━━━━━━━━\u001b[0m\u001b[37m\u001b[0m \u001b[1m11s\u001b[0m 142ms/step - accuracy: 0.9592 - loss: 0.1228 - val_accuracy: 0.9466 - val_loss: 0.1636\n",
            "Epoch 37/50\n",
            "\u001b[1m59/59\u001b[0m \u001b[32m━━━━━━━━━━━━━━━━━━━━\u001b[0m\u001b[37m\u001b[0m \u001b[1m8s\u001b[0m 141ms/step - accuracy: 0.9585 - loss: 0.1226 - val_accuracy: 0.9509 - val_loss: 0.1614\n",
            "Epoch 38/50\n",
            "\u001b[1m59/59\u001b[0m \u001b[32m━━━━━━━━━━━━━━━━━━━━\u001b[0m\u001b[37m\u001b[0m \u001b[1m7s\u001b[0m 121ms/step - accuracy: 0.9596 - loss: 0.1179 - val_accuracy: 0.9380 - val_loss: 0.1652\n",
            "Epoch 39/50\n",
            "\u001b[1m59/59\u001b[0m \u001b[32m━━━━━━━━━━━━━━━━━━━━\u001b[0m\u001b[37m\u001b[0m \u001b[1m8s\u001b[0m 141ms/step - accuracy: 0.9618 - loss: 0.1138 - val_accuracy: 0.9423 - val_loss: 0.1586\n",
            "Epoch 40/50\n",
            "\u001b[1m59/59\u001b[0m \u001b[32m━━━━━━━━━━━━━━━━━━━━\u001b[0m\u001b[37m\u001b[0m \u001b[1m7s\u001b[0m 121ms/step - accuracy: 0.9724 - loss: 0.0979 - val_accuracy: 0.9509 - val_loss: 0.1545\n",
            "Epoch 41/50\n",
            "\u001b[1m59/59\u001b[0m \u001b[32m━━━━━━━━━━━━━━━━━━━━\u001b[0m\u001b[37m\u001b[0m \u001b[1m8s\u001b[0m 141ms/step - accuracy: 0.9708 - loss: 0.1005 - val_accuracy: 0.9573 - val_loss: 0.1479\n",
            "Epoch 42/50\n",
            "\u001b[1m59/59\u001b[0m \u001b[32m━━━━━━━━━━━━━━━━━━━━\u001b[0m\u001b[37m\u001b[0m \u001b[1m7s\u001b[0m 121ms/step - accuracy: 0.9670 - loss: 0.1018 - val_accuracy: 0.9530 - val_loss: 0.1473\n",
            "Epoch 43/50\n",
            "\u001b[1m59/59\u001b[0m \u001b[32m━━━━━━━━━━━━━━━━━━━━\u001b[0m\u001b[37m\u001b[0m \u001b[1m7s\u001b[0m 122ms/step - accuracy: 0.9677 - loss: 0.0974 - val_accuracy: 0.9594 - val_loss: 0.1400\n",
            "Epoch 44/50\n",
            "\u001b[1m59/59\u001b[0m \u001b[32m━━━━━━━━━━━━━━━━━━━━\u001b[0m\u001b[37m\u001b[0m \u001b[1m10s\u001b[0m 121ms/step - accuracy: 0.9673 - loss: 0.0955 - val_accuracy: 0.9573 - val_loss: 0.1393\n",
            "Epoch 45/50\n",
            "\u001b[1m59/59\u001b[0m \u001b[32m━━━━━━━━━━━━━━━━━━━━\u001b[0m\u001b[37m\u001b[0m \u001b[1m10s\u001b[0m 121ms/step - accuracy: 0.9705 - loss: 0.0902 - val_accuracy: 0.9594 - val_loss: 0.1376\n",
            "Epoch 46/50\n",
            "\u001b[1m59/59\u001b[0m \u001b[32m━━━━━━━━━━━━━━━━━━━━\u001b[0m\u001b[37m\u001b[0m \u001b[1m10s\u001b[0m 121ms/step - accuracy: 0.9740 - loss: 0.0790 - val_accuracy: 0.9594 - val_loss: 0.1311\n",
            "Epoch 47/50\n",
            "\u001b[1m59/59\u001b[0m \u001b[32m━━━━━━━━━━━━━━━━━━━━\u001b[0m\u001b[37m\u001b[0m \u001b[1m8s\u001b[0m 141ms/step - accuracy: 0.9755 - loss: 0.0795 - val_accuracy: 0.9594 - val_loss: 0.1289\n",
            "Epoch 48/50\n",
            "\u001b[1m59/59\u001b[0m \u001b[32m━━━━━━━━━━━━━━━━━━━━\u001b[0m\u001b[37m\u001b[0m \u001b[1m7s\u001b[0m 122ms/step - accuracy: 0.9761 - loss: 0.0757 - val_accuracy: 0.9594 - val_loss: 0.1268\n",
            "Epoch 49/50\n",
            "\u001b[1m59/59\u001b[0m \u001b[32m━━━━━━━━━━━━━━━━━━━━\u001b[0m\u001b[37m\u001b[0m \u001b[1m8s\u001b[0m 141ms/step - accuracy: 0.9806 - loss: 0.0690 - val_accuracy: 0.9615 - val_loss: 0.1293\n",
            "Epoch 50/50\n",
            "\u001b[1m59/59\u001b[0m \u001b[32m━━━━━━━━━━━━━━━━━━━━\u001b[0m\u001b[37m\u001b[0m \u001b[1m9s\u001b[0m 121ms/step - accuracy: 0.9798 - loss: 0.0731 - val_accuracy: 0.9615 - val_loss: 0.1227\n",
            "Found 113 files belonging to 2 classes.\n",
            "\u001b[1m4/4\u001b[0m \u001b[32m━━━━━━━━━━━━━━━━━━━━\u001b[0m\u001b[37m\u001b[0m \u001b[1m4s\u001b[0m 1s/step - accuracy: 0.9706 - loss: 0.1178\n",
            "Test Accuracy: 97.35%\n",
            "\u001b[1m15/15\u001b[0m \u001b[32m━━━━━━━━━━━━━━━━━━━━\u001b[0m\u001b[37m\u001b[0m \u001b[1m1s\u001b[0m 93ms/step - accuracy: 0.9628 - loss: 0.1222\n",
            "Validation Accuracy: 96.15%\n"
          ]
        },
        {
          "output_type": "display_data",
          "data": {
            "text/plain": [
              "<Figure size 1200x500 with 2 Axes>"
            ],
            "image/png": "[encoded data removed]"
          },
          "metadata": {}
        },
        {
          "output_type": "stream",
          "name": "stdout",
          "text": [
            "\u001b[1m1/1\u001b[0m \u001b[32m━━━━━━━━━━━━━━━━━━━━\u001b[0m\u001b[37m\u001b[0m \u001b[1m5s\u001b[0m 5s/step\n",
            "\u001b[1m1/1\u001b[0m \u001b[32m━━━━━━━━━━━━━━━━━━━━\u001b[0m\u001b[37m\u001b[0m \u001b[1m0s\u001b[0m 157ms/step\n",
            "\u001b[1m1/1\u001b[0m \u001b[32m━━━━━━━━━━━━━━━━━━━━\u001b[0m\u001b[37m\u001b[0m \u001b[1m0s\u001b[0m 141ms/step\n",
            "\u001b[1m1/1\u001b[0m \u001b[32m━━━━━━━━━━━━━━━━━━━━\u001b[0m\u001b[37m\u001b[0m \u001b[1m4s\u001b[0m 4s/step\n",
            "Precision: 97.36%\n",
            "Recall: 97.35%\n",
            "F1-score: 97.35%\n"
          ]
        },
        {
          "output_type": "display_data",
          "data": {
            "text/plain": [
              "<Figure size 640x480 with 2 Axes>"
            ],
            "image/png": "[encoded data removed]"
          },
          "metadata": {}
        },
        {
          "output_type": "display_data",
          "data": {
            "text/plain": [
              "\u001b[1mModel: \"res_net_with_multihead_attention\"\u001b[0m\n"
            ],
            "text/html": [
              "<pre style=\"white-space:pre;overflow-x:auto;line-height:normal;font-family:Menlo,'DejaVu Sans Mono',consolas,'Courier New',monospace\"><span style=\"font-weight: bold\">Model: \"res_net_with_multihead_attention\"</span>\n",
              "</pre>\n"
            ]
          },
          "metadata": {}
        },
        {
          "output_type": "display_data",
          "data": {
            "text/plain": [
              "┏━━━━━━━━━━━━━━━━━━━━━━━━━━━━━━━━━┳━━━━━━━━━━━━━━━━━━━━━━━━┳━━━━━━━━━━━━━━━┓\n",
              "┃\u001b[1m \u001b[0m\u001b[1mLayer (type)                   \u001b[0m\u001b[1m \u001b[0m┃\u001b[1m \u001b[0m\u001b[1mOutput Shape          \u001b[0m\u001b[1m \u001b[0m┃\u001b[1m \u001b[0m\u001b[1m      Param #\u001b[0m\u001b[1m \u001b[0m┃\n",
              "┡━━━━━━━━━━━━━━━━━━━━━━━━━━━━━━━━━╇━━━━━━━━━━━━━━━━━━━━━━━━╇━━━━━━━━━━━━━━━┩\n",
              "│ resnet50 (\u001b[38;5;33mFunctional\u001b[0m)           │ (\u001b[38;5;45mNone\u001b[0m, \u001b[38;5;34m8\u001b[0m, \u001b[38;5;34m8\u001b[0m, \u001b[38;5;34m2048\u001b[0m)     │    \u001b[38;5;34m23,587,712\u001b[0m │\n",
              "├─────────────────────────────────┼────────────────────────┼───────────────┤\n",
              "│ multihead_attention_layer       │ ?                      │     \u001b[38;5;34m2,099,968\u001b[0m │\n",
              "│ (\u001b[38;5;33mMultiheadAttentionLayer\u001b[0m)       │                        │               │\n",
              "├─────────────────────────────────┼────────────────────────┼───────────────┤\n",
              "│ global_average_pooling2d        │ ?                      │             \u001b[38;5;34m0\u001b[0m │\n",
              "│ (\u001b[38;5;33mGlobalAveragePooling2D\u001b[0m)        │                        │               │\n",
              "├─────────────────────────────────┼────────────────────────┼───────────────┤\n",
              "│ dropout (\u001b[38;5;33mDropout\u001b[0m)               │ ?                      │             \u001b[38;5;34m0\u001b[0m │\n",
              "├─────────────────────────────────┼────────────────────────┼───────────────┤\n",
              "│ dense (\u001b[38;5;33mDense\u001b[0m)                   │ (\u001b[38;5;45mNone\u001b[0m, \u001b[38;5;34m750\u001b[0m)            │     \u001b[38;5;34m1,536,750\u001b[0m │\n",
              "├─────────────────────────────────┼────────────────────────┼───────────────┤\n",
              "│ dense_1 (\u001b[38;5;33mDense\u001b[0m)                 │ (\u001b[38;5;45mNone\u001b[0m, \u001b[38;5;34m2\u001b[0m)              │         \u001b[38;5;34m1,502\u001b[0m │\n",
              "└─────────────────────────────────┴────────────────────────┴───────────────┘\n"
            ],
            "text/html": [
              "<pre style=\"white-space:pre;overflow-x:auto;line-height:normal;font-family:Menlo,'DejaVu Sans Mono',consolas,'Courier New',monospace\">┏━━━━━━━━━━━━━━━━━━━━━━━━━━━━━━━━━┳━━━━━━━━━━━━━━━━━━━━━━━━┳━━━━━━━━━━━━━━━┓\n",
              "┃<span style=\"font-weight: bold\"> Layer (type)                    </span>┃<span style=\"font-weight: bold\"> Output Shape           </span>┃<span style=\"font-weight: bold\">       Param # </span>┃\n",
              "┡━━━━━━━━━━━━━━━━━━━━━━━━━━━━━━━━━╇━━━━━━━━━━━━━━━━━━━━━━━━╇━━━━━━━━━━━━━━━┩\n",
              "│ resnet50 (<span style=\"color: #0087ff; text-decoration-color: #0087ff\">Functional</span>)           │ (<span style=\"color: #00d7ff; text-decoration-color: #00d7ff\">None</span>, <span style=\"color: #00af00; text-decoration-color: #00af00\">8</span>, <span style=\"color: #00af00; text-decoration-color: #00af00\">8</span>, <span style=\"color: #00af00; text-decoration-color: #00af00\">2048</span>)     │    <span style=\"color: #00af00; text-decoration-color: #00af00\">23,587,712</span> │\n",
              "├─────────────────────────────────┼────────────────────────┼───────────────┤\n",
              "│ multihead_attention_layer       │ ?                      │     <span style=\"color: #00af00; text-decoration-color: #00af00\">2,099,968</span> │\n",
              "│ (<span style=\"color: #0087ff; text-decoration-color: #0087ff\">MultiheadAttentionLayer</span>)       │                        │               │\n",
              "├─────────────────────────────────┼────────────────────────┼───────────────┤\n",
              "│ global_average_pooling2d        │ ?                      │             <span style=\"color: #00af00; text-decoration-color: #00af00\">0</span> │\n",
              "│ (<span style=\"color: #0087ff; text-decoration-color: #0087ff\">GlobalAveragePooling2D</span>)        │                        │               │\n",
              "├─────────────────────────────────┼────────────────────────┼───────────────┤\n",
              "│ dropout (<span style=\"color: #0087ff; text-decoration-color: #0087ff\">Dropout</span>)               │ ?                      │             <span style=\"color: #00af00; text-decoration-color: #00af00\">0</span> │\n",
              "├─────────────────────────────────┼────────────────────────┼───────────────┤\n",
              "│ dense (<span style=\"color: #0087ff; text-decoration-color: #0087ff\">Dense</span>)                   │ (<span style=\"color: #00d7ff; text-decoration-color: #00d7ff\">None</span>, <span style=\"color: #00af00; text-decoration-color: #00af00\">750</span>)            │     <span style=\"color: #00af00; text-decoration-color: #00af00\">1,536,750</span> │\n",
              "├─────────────────────────────────┼────────────────────────┼───────────────┤\n",
              "│ dense_1 (<span style=\"color: #0087ff; text-decoration-color: #0087ff\">Dense</span>)                 │ (<span style=\"color: #00d7ff; text-decoration-color: #00d7ff\">None</span>, <span style=\"color: #00af00; text-decoration-color: #00af00\">2</span>)              │         <span style=\"color: #00af00; text-decoration-color: #00af00\">1,502</span> │\n",
              "└─────────────────────────────────┴────────────────────────┴───────────────┘\n",
              "</pre>\n"
            ]
          },
          "metadata": {}
        },
        {
          "output_type": "display_data",
          "data": {
            "text/plain": [
              "\u001b[1m Total params: \u001b[0m\u001b[38;5;34m27,225,934\u001b[0m (103.86 MB)\n"
            ],
            "text/html": [
              "<pre style=\"white-space:pre;overflow-x:auto;line-height:normal;font-family:Menlo,'DejaVu Sans Mono',consolas,'Courier New',monospace\"><span style=\"font-weight: bold\"> Total params: </span><span style=\"color: #00af00; text-decoration-color: #00af00\">27,225,934</span> (103.86 MB)\n",
              "</pre>\n"
            ]
          },
          "metadata": {}
        },
        {
          "output_type": "display_data",
          "data": {
            "text/plain": [
              "\u001b[1m Trainable params: \u001b[0m\u001b[38;5;34m3,638,220\u001b[0m (13.88 MB)\n"
            ],
            "text/html": [
              "<pre style=\"white-space:pre;overflow-x:auto;line-height:normal;font-family:Menlo,'DejaVu Sans Mono',consolas,'Courier New',monospace\"><span style=\"font-weight: bold\"> Trainable params: </span><span style=\"color: #00af00; text-decoration-color: #00af00\">3,638,220</span> (13.88 MB)\n",
              "</pre>\n"
            ]
          },
          "metadata": {}
        },
        {
          "output_type": "display_data",
          "data": {
            "text/plain": [
              "\u001b[1m Non-trainable params: \u001b[0m\u001b[38;5;34m23,587,712\u001b[0m (89.98 MB)\n"
            ],
            "text/html": [
              "<pre style=\"white-space:pre;overflow-x:auto;line-height:normal;font-family:Menlo,'DejaVu Sans Mono',consolas,'Courier New',monospace\"><span style=\"font-weight: bold\"> Non-trainable params: </span><span style=\"color: #00af00; text-decoration-color: #00af00\">23,587,712</span> (89.98 MB)\n",
              "</pre>\n"
            ]
          },
          "metadata": {}
        },
        {
          "output_type": "display_data",
          "data": {
            "text/plain": [
              "\u001b[1m Optimizer params: \u001b[0m\u001b[38;5;34m2\u001b[0m (12.00 B)\n"
            ],
            "text/html": [
              "<pre style=\"white-space:pre;overflow-x:auto;line-height:normal;font-family:Menlo,'DejaVu Sans Mono',consolas,'Courier New',monospace\"><span style=\"font-weight: bold\"> Optimizer params: </span><span style=\"color: #00af00; text-decoration-color: #00af00\">2</span> (12.00 B)\n",
              "</pre>\n"
            ]
          },
          "metadata": {}
        }
      ]
    },
    {
      "cell_type": "code",
      "source": [],
      "metadata": {
        "id": "KZww0jnco5EQ"
      },
      "execution_count": null,
      "outputs": []
    }
  ]
}